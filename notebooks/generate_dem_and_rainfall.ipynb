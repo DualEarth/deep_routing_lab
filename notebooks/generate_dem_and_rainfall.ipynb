{
 "cells": [
  {
   "cell_type": "code",
   "execution_count": null,
   "id": "8612a189",
   "metadata": {},
   "outputs": [],
   "source": [
    "from drl import DEMSimulator\n",
    "from drl import RainfallSimulator\n",
    "from drl import DiffusiveWaveRouter\n",
    "from drl.utils import save_h, save_h_quads, make_routing_gif, make_quad_rainfall_gif, make_quad_routing_gif\n",
    "from matplotlib import pyplot as plt"
   ]
  },
  {
   "cell_type": "code",
   "execution_count": null,
   "id": "70f940b4",
   "metadata": {},
   "outputs": [],
   "source": [
    "# Example usage\n",
    "dem_simulator = DEMSimulator(\"../config/config.yaml\")\n",
    "dem_simulator.generate_all_dems()\n",
    "dems = dem_simulator.get_dems()"
   ]
  },
  {
   "cell_type": "code",
   "execution_count": null,
   "id": "44661271",
   "metadata": {},
   "outputs": [],
   "source": [
    "# Visualize one of the DEMs\n",
    "for i in range(len(dems)):\n",
    "    plt.figure(figsize=(4, 3))\n",
    "    plt.imshow(dems[i], cmap='terrain')\n",
    "    plt.colorbar(label='Elevation')\n",
    "    plt.title('Sample Synthetic DEM After Smoothing')\n",
    "    plt.show()"
   ]
  },
  {
   "cell_type": "code",
   "execution_count": null,
   "id": "80cd27a2",
   "metadata": {},
   "outputs": [],
   "source": [
    "rain_simulator = RainfallSimulator(\"../config/config.yaml\")\n",
    "rain = rain_simulator.generate_all_directions(dems[0])  "
   ]
  },
  {
   "cell_type": "code",
   "execution_count": null,
   "id": "8b261d8d",
   "metadata": {},
   "outputs": [],
   "source": [
    "make_quad_rainfall_gif(rain, dems[0])"
   ]
  },
  {
   "cell_type": "code",
   "execution_count": null,
   "id": "664b4255",
   "metadata": {},
   "outputs": [],
   "source": [
    "router_dif = DiffusiveWaveRouter(dem=dems[0], config_path=\"../config/config.yaml\")\n",
    "h_dict_dif = {}\n",
    "for i in [\"north\", \"south\", \"east\", \"west\"]:\n",
    "    router_dif.reset()\n",
    "    h_dict_dif[i] = router_dif.run(rain[i])\n"
   ]
  },
  {
   "cell_type": "code",
   "execution_count": null,
   "id": "74c42794",
   "metadata": {},
   "outputs": [],
   "source": [
    "save_h(h_dict_dif[i], dem=dems[0], cmap=\"Blues\", alpha=.8, vmax=1)\n",
    "make_routing_gif(gif_name='routing_dif.gif', fps=15)"
   ]
  },
  {
   "cell_type": "code",
   "execution_count": null,
   "id": "4a71ec1d",
   "metadata": {},
   "outputs": [],
   "source": [
    "save_h_quads(h_dict_dif, dem=dems[0], out_dir='outputs/routing', vmin=0, vmax=1, alpha=0.6, n_contours=20)\n",
    "make_quad_routing_gif(out_dir='outputs/routing', gif_name='routing_dif_quads.gif', fps=25, cleanup=True)"
   ]
  },
  {
   "cell_type": "code",
   "execution_count": null,
   "id": "c70ea1fe",
   "metadata": {},
   "outputs": [],
   "source": []
  }
 ],
 "metadata": {
  "kernelspec": {
   "display_name": "drl",
   "language": "python",
   "name": "python3"
  },
  "language_info": {
   "codemirror_mode": {
    "name": "ipython",
    "version": 3
   },
   "file_extension": ".py",
   "mimetype": "text/x-python",
   "name": "python",
   "nbconvert_exporter": "python",
   "pygments_lexer": "ipython3",
   "version": "3.10.17"
  }
 },
 "nbformat": 4,
 "nbformat_minor": 5
}
