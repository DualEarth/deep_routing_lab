{
 "cells": [
  {
   "cell_type": "code",
   "execution_count": null,
   "id": "8612a189",
   "metadata": {},
   "outputs": [],
   "source": [
    "from drl import DEMSimulator\n",
    "from drl.utils import load_config\n",
    "from drl import RainfallSimulator\n",
    "from matplotlib import pyplot as plt\n",
    "import numpy as np"
   ]
  },
  {
   "cell_type": "code",
   "execution_count": null,
   "id": "70f940b4",
   "metadata": {},
   "outputs": [],
   "source": [
    "# Example usage\n",
    "dem_simulator = DEMSimulator(\"../config/config_dem1.yaml\")\n",
    "dem_simulator.generate_all_dems()\n",
    "dems = dem_simulator.get_dems()"
   ]
  },
  {
   "cell_type": "code",
   "execution_count": null,
   "id": "44661271",
   "metadata": {},
   "outputs": [],
   "source": [
    "# Visualize one of the DEMs\n",
    "for i in range(3):\n",
    "    plt.figure(figsize=(4, 3))\n",
    "    plt.imshow(dems[i], cmap='terrain')\n",
    "    plt.colorbar(label='Elevation')\n",
    "    plt.title('Sample Synthetic DEM After Smoothing')\n",
    "    plt.show()"
   ]
  },
  {
   "cell_type": "code",
   "execution_count": null,
   "id": "80cd27a2",
   "metadata": {},
   "outputs": [],
   "source": [
    "rain_simulator = RainfallSimulator()\n",
    "rain = rain_simulator.generate(dems[3])  "
   ]
  },
  {
   "cell_type": "code",
   "execution_count": null,
   "id": "999da4d3",
   "metadata": {},
   "outputs": [],
   "source": [
    "# Visualize rainfall at timestep 3\n",
    "for ts in range(100):\n",
    "    plt.figure(figsize=(4, 3))  # Width=4 inches, Height=3 inches\n",
    "    plt.imshow(rain[ts], cmap='Blues')\n",
    "    plt.colorbar(label='Rainfall Intensity (mm/hr)')\n",
    "    plt.title(f'Synthetic Rainfall at t={ts}')\n",
    "    plt.tight_layout()\n",
    "    plt.show()"
   ]
  },
  {
   "cell_type": "code",
   "execution_count": null,
   "id": "480cdae7",
   "metadata": {},
   "outputs": [],
   "source": []
  }
 ],
 "metadata": {
  "kernelspec": {
   "display_name": "drl",
   "language": "python",
   "name": "python3"
  },
  "language_info": {
   "codemirror_mode": {
    "name": "ipython",
    "version": 3
   },
   "file_extension": ".py",
   "mimetype": "text/x-python",
   "name": "python",
   "nbconvert_exporter": "python",
   "pygments_lexer": "ipython3",
   "version": "3.10.17"
  }
 },
 "nbformat": 4,
 "nbformat_minor": 5
}
