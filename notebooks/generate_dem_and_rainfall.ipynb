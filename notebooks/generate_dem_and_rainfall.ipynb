{
 "cells": [
  {
   "cell_type": "code",
   "execution_count": null,
   "id": "8612a189",
   "metadata": {},
   "outputs": [],
   "source": [
    "from drl import DEMSimulator\n",
    "from drl import RainfallSimulator\n",
    "from drl import DiffusiveWaveRouter, ShallowWaterRouter, DiffusiveWaveRouter\n",
    "from drl.utils import save_h, save_h_quads, make_routing_gif, make_quad_rainfall_gif, make_quad_routing_gif\n",
    "from matplotlib import pyplot as plt"
   ]
  },
  {
   "cell_type": "code",
   "execution_count": 2,
   "id": "70f940b4",
   "metadata": {},
   "outputs": [
    {
     "name": "stdout",
     "output_type": "stream",
     "text": [
      "{'num_dems': 1, 'size': 64, 'hilliness_range': [2, 8], 'total_iterations': 150, 'river_freq': 25, 'default_smoothing_strength': 1.0, 'light_smoothing_strength': 0.5, 'river_step_range': [-10, 10], 'river_slope_ratio_range': [1, 4], 'river_max_steps': 64, 'trim_width': 5}\n"
     ]
    }
   ],
   "source": [
    "# Example usage\n",
    "dem_simulator = DEMSimulator(\"../config/config.yaml\")\n",
    "dem_simulator.generate_all_dems()\n",
    "dems = dem_simulator.get_dems()"
   ]
  },
  {
   "cell_type": "code",
   "execution_count": 3,
   "id": "44661271",
   "metadata": {},
   "outputs": [
    {
     "data": {
      "image/png": "[encoded data removed]",
      "text/plain": [
       "<Figure size 400x300 with 2 Axes>"
      ]
     },
     "metadata": {},
     "output_type": "display_data"
    }
   ],
   "source": [
    "# Visualize one of the DEMs\n",
    "for i in range(len(dems)):\n",
    "    plt.figure(figsize=(4, 3))\n",
    "    plt.imshow(dems[i], cmap='terrain')\n",
    "    plt.colorbar(label='Elevation')\n",
    "    plt.title('Sample Synthetic DEM After Smoothing')\n",
    "    plt.show()"
   ]
  },
  {
   "cell_type": "code",
   "execution_count": 4,
   "id": "80cd27a2",
   "metadata": {},
   "outputs": [],
   "source": [
    "rain_simulator = RainfallSimulator(\"../config/config.yaml\")\n",
    "rain = rain_simulator.generate_all_directions(dems[0])  "
   ]
  },
  {
   "cell_type": "code",
   "execution_count": 5,
   "id": "d31f781d",
   "metadata": {},
   "outputs": [
    {
     "data": {
      "text/plain": [
       "4"
      ]
     },
     "execution_count": 5,
     "metadata": {},
     "output_type": "execute_result"
    }
   ],
   "source": [
    "len(rain)"
   ]
  },
  {
   "cell_type": "code",
   "execution_count": 6,
   "id": "8b261d8d",
   "metadata": {},
   "outputs": [],
   "source": [
    "#make_quad_rainfall_gif(rain, dems[0])"
   ]
  },
  {
   "cell_type": "code",
   "execution_count": 7,
   "id": "664b4255",
   "metadata": {},
   "outputs": [
    {
     "name": "stderr",
     "output_type": "stream",
     "text": [
      "Routing: 100%|██████████| 40/40 [00:00<00:00, 7736.78it/s]\n",
      "Routing: 100%|██████████| 40/40 [00:00<00:00, 7846.05it/s]\n",
      "Routing: 100%|██████████| 40/40 [00:00<00:00, 8230.18it/s]\n",
      "Routing: 100%|██████████| 40/40 [00:00<00:00, 8071.01it/s]\n",
      "Routing: 100%|██████████| 40/40 [00:00<00:00, 8873.08it/s]\n",
      "Routing: 100%|██████████| 40/40 [00:00<00:00, 8461.80it/s]\n",
      "Routing: 100%|██████████| 40/40 [00:00<00:00, 9336.76it/s]\n",
      "Routing: 100%|██████████| 40/40 [00:00<00:00, 9205.61it/s]\n"
     ]
    }
   ],
   "source": [
    "router_dif = DiffusiveWaveRouter(dem=dems[0], config_path=\"../config/config.yaml\")\n",
    "router_swe = ShallowWaterRouter(dem=dems[0], config_path=\"../config/config.yaml\")\n",
    "h_dict_dif = {}\n",
    "h_dict_swe = {}\n",
    "for i in [\"north\", \"south\", \"east\", \"west\"]:\n",
    "    router_dif.reset()\n",
    "    router_swe.reset()\n",
    "    h_dict_dif[i] = router_dif.run(rain[i])\n",
    "    h_dict_swe[i] = router_dif.run(rain[i])"
   ]
  },
  {
   "cell_type": "code",
   "execution_count": 8,
   "id": "74c42794",
   "metadata": {},
   "outputs": [
    {
     "name": "stdout",
     "output_type": "stream",
     "text": [
      "✅ GIF saved to outputs/routing/routing_dif.gif\n",
      "✅ GIF saved to outputs/routing/routing_swe.gif\n"
     ]
    }
   ],
   "source": [
    "save_h(h_dict_dif[i], dem=dems[0], cmap=\"Blues\", alpha=.8, vmax=1)\n",
    "make_routing_gif(gif_name='routing_dif.gif', fps=15)\n",
    "save_h(h_dict_swe[i], dem=dems[0], cmap=\"Blues\", alpha=.8, vmax=1)\n",
    "make_routing_gif(gif_name='routing_swe.gif', fps=15)"
   ]
  },
  {
   "cell_type": "code",
   "execution_count": 9,
   "id": "4a71ec1d",
   "metadata": {},
   "outputs": [
    {
     "name": "stderr",
     "output_type": "stream",
     "text": [
      "/Users/jmframe/deep_routing_lab/src/drl/utils/viz.py:245: UserWarning: This figure includes Axes that are not compatible with tight_layout, so results might be incorrect.\n",
      "  plt.tight_layout(rect=[0, 0, 0.9, 1])\n"
     ]
    },
    {
     "name": "stdout",
     "output_type": "stream",
     "text": [
      "✅ Quadrant routing images saved to outputs/routing\n",
      "✅ Quadrant routing GIF saved to outputs/routing/routing_swe_quads.gif\n",
      "✅ Quadrant routing images saved to outputs/routing\n",
      "✅ Quadrant routing GIF saved to outputs/routing/routing_dif_quads.gif\n"
     ]
    }
   ],
   "source": [
    "save_h_quads(h_dict_swe, dem=dems[0], out_dir='outputs/routing', vmin=0, vmax=1, alpha=0.6, n_contours=20)\n",
    "make_quad_routing_gif(out_dir='outputs/routing', gif_name='routing_swe_quads.gif', fps=25, cleanup=True)\n",
    "save_h_quads(h_dict_dif, dem=dems[0], out_dir='outputs/routing', vmin=0, vmax=1, alpha=0.6, n_contours=20)\n",
    "make_quad_routing_gif(out_dir='outputs/routing', gif_name='routing_dif_quads.gif', fps=25, cleanup=True)"
   ]
  },
  {
   "cell_type": "code",
   "execution_count": null,
   "id": "c92fbf90",
   "metadata": {},
   "outputs": [],
   "source": []
  },
  {
   "cell_type": "code",
   "execution_count": null,
   "id": "f5b66a9a",
   "metadata": {},
   "outputs": [],
   "source": []
  },
  {
   "cell_type": "code",
   "execution_count": null,
   "id": "f07479d4",
   "metadata": {},
   "outputs": [],
   "source": []
  }
 ],
 "metadata": {
  "kernelspec": {
   "display_name": "drl",
   "language": "python",
   "name": "python3"
  },
  "language_info": {
   "codemirror_mode": {
    "name": "ipython",
    "version": 3
   },
   "file_extension": ".py",
   "mimetype": "text/x-python",
   "name": "python",
   "nbconvert_exporter": "python",
   "pygments_lexer": "ipython3",
   "version": "3.10.17"
  }
 },
 "nbformat": 4,
 "nbformat_minor": 5
}
