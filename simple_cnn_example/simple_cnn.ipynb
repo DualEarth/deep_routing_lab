{
 "cells": [
  {
   "cell_type": "code",
   "execution_count": null,
   "id": "c716cd15-1cce-4bf6-87cb-de6d4831aca2",
   "metadata": {},
   "outputs": [],
   "source": [
    "# simple_cnn.ipynb\n",
    "\n",
    "import torch\n",
    "from torch.utils.data import DataLoader, TensorDataset\n",
    "from data_generation import generate_synthetic_data\n",
    "from cnn_model import SimpleCNN\n",
    "from train_model import train_model\n",
    "from evaluate_model import evaluate_model\n",
    "from config import num_epochs\n",
    "\n",
    "# Generate synthetic data\n",
    "train_dataset, train_dataloader, eval_dataset, eval_dataloader = generate_synthetic_data()\n",
    "\n",
    "# Initialize model\n",
    "model = SimpleCNN()\n",
    "\n",
    "# Train the model\n",
    "train_model(model, train_dataset, num_epochs = 1)\n",
    "evaluate_model(model, eval_dataloader)\n",
    "train_model(model, train_dataset, num_epochs = 1)\n",
    "evaluate_model(model, eval_dataloader)\n",
    "train_model(model, train_dataset, num_epochs = 1)\n",
    "evaluate_model(model, eval_dataloader)\n",
    "train_model(model, train_dataset, num_epochs = num_epochs)\n",
    "evaluate_model(model, eval_dataloader)"
   ]
  },
  {
   "cell_type": "code",
   "execution_count": null,
   "id": "55c47fa4-e474-4c6b-9d80-336b5f968630",
   "metadata": {},
   "outputs": [],
   "source": []
  }
 ],
 "metadata": {
  "kernelspec": {
   "display_name": "Python [conda env:mlhydrogeospatial_cpu]",
   "language": "python",
   "name": "conda-env-mlhydrogeospatial_cpu-py"
  },
  "language_info": {
   "codemirror_mode": {
    "name": "ipython",
    "version": 3
   },
   "file_extension": ".py",
   "mimetype": "text/x-python",
   "name": "python",
   "nbconvert_exporter": "python",
   "pygments_lexer": "ipython3",
   "version": "3.10.17"
  }
 },
 "nbformat": 4,
 "nbformat_minor": 5
}
