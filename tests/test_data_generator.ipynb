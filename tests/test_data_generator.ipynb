{
 "cells": [
  {
   "cell_type": "code",
   "execution_count": null,
   "metadata": {
    "scrolled": true
   },
   "outputs": [],
   "source": [
    "from drl import DEMSimulator\n",
    "from drl.utils import load_config\n",
    "from matplotlib import pyplot as plt"
   ]
  },
  {
   "cell_type": "code",
   "execution_count": null,
   "metadata": {},
   "outputs": [],
   "source": [
    "# Example usage\n",
    "dem_simulator = DEMSimulator(\"../config/config_dem1.yaml\")\n",
    "dem_simulator.generate_all_dems()\n",
    "dems = dem_simulator.get_dems()"
   ]
  },
  {
   "cell_type": "code",
   "execution_count": null,
   "metadata": {},
   "outputs": [],
   "source": [
    "# Visualize one of the DEMs\n",
    "for i in range(10):\n",
    "    plt.figure(figsize=(4, 3))\n",
    "    plt.imshow(dems[i], cmap='terrain')\n",
    "    plt.colorbar(label='Elevation')\n",
    "    plt.title('Sample Synthetic DEM After Smoothing')\n",
    "    plt.show()"
   ]
  },
  {
   "cell_type": "code",
   "execution_count": null,
   "metadata": {},
   "outputs": [],
   "source": []
  }
 ],
 "metadata": {
  "kernelspec": {
   "display_name": "drl",
   "language": "python",
   "name": "python3"
  },
  "language_info": {
   "codemirror_mode": {
    "name": "ipython",
    "version": 3
   },
   "file_extension": ".py",
   "mimetype": "text/x-python",
   "name": "python",
   "nbconvert_exporter": "python",
   "pygments_lexer": "ipython3",
   "version": "3.10.17"
  }
 },
 "nbformat": 4,
 "nbformat_minor": 4
}
